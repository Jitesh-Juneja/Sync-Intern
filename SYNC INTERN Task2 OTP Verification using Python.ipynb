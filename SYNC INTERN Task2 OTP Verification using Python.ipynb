{
 "cells": [
  {
   "cell_type": "markdown",
   "id": "e8241ab9",
   "metadata": {},
   "source": [
    "# Task2: OTP Verification using Python"
   ]
  },
  {
   "cell_type": "markdown",
   "id": "d0f28952",
   "metadata": {},
   "source": [
    "# Importing required libraries"
   ]
  },
  {
   "cell_type": "code",
   "execution_count": 2,
   "id": "ebf03b04",
   "metadata": {},
   "outputs": [],
   "source": [
    "from tkinter import *\n",
    "from tkinter import messagebox\n",
    "import random\n",
    "import smtplib\n",
    "\n",
    "import warnings\n",
    "warnings.filterwarnings(\"ignore\")"
   ]
  },
  {
   "cell_type": "code",
   "execution_count": 3,
   "id": "583484f4",
   "metadata": {},
   "outputs": [],
   "source": [
    "def generate_OTP():\n",
    "    otp = ''.join([str(random.randint(0,9)) for i in range(6)])\n",
    "    return otp"
   ]
  },
  {
   "cell_type": "code",
   "execution_count": 4,
   "id": "19d060d3",
   "metadata": {},
   "outputs": [],
   "source": [
    "def send_email(id):\n",
    "    # server creation\n",
    "    server = smtplib.SMTP('smtp.gmail.com',587)\n",
    "    server.starttls()\n",
    "    # email login\n",
    "    server.login('sendermailid@gmail.com','osrpunfvqcyealui')\n",
    "    otp = generate_OTP()\n",
    "    msg = 'Hello Your OTP is '+ str(otp)\n",
    "    server.sendmail('sendermailid@gmail.com',id,msg)\n",
    "    server.quit()\n",
    "    return otp"
   ]
  },
  {
   "cell_type": "code",
   "execution_count": 5,
   "id": "c4b92057",
   "metadata": {},
   "outputs": [],
   "source": [
    "def verification(userotp):\n",
    "    if userotp==int(temp[0]):\n",
    "        temp.clear()\n",
    "        return True\n",
    "    else:\n",
    "        temp.clear()\n",
    "        return False"
   ]
  },
  {
   "cell_type": "code",
   "execution_count": 6,
   "id": "6eb1a9de",
   "metadata": {},
   "outputs": [],
   "source": [
    "temp =[]\n",
    "def generateOTP():\n",
    "    id = email.get()\n",
    "    temp.append(send_email(id))\n",
    "    messagebox.showinfo('Status', \"OTP Generated\")"
   ]
  },
  {
   "cell_type": "code",
   "execution_count": 7,
   "id": "4afe6e3a",
   "metadata": {},
   "outputs": [],
   "source": [
    "root = Tk()\n",
    "\n",
    "root.geometry(\"400x440\")\n",
    "root.title(\"OTP Verification\")\n",
    "\n",
    "def verify():\n",
    "    userotp1 = int(userotp.get())\n",
    "    ans = verification(userotp1)\n",
    "    if ans:\n",
    "        messagebox.showinfo('Status',\"Authentication Successful\")\n",
    "    else:\n",
    "        messagebox.showerror('Status',\"Authentication Failed\")\n",
    "\n",
    "\n",
    "Label(root,text=\"OTP Verification APP\\n\",font=(\"Cascadia Code\",20)).grid(row=0,column=1)\n",
    "\n",
    "Label(root,text=\"Enter your Email : \",font=(\"Cascadia Code\",18)).grid(row=1,column=1,padx = 0,pady=12)\n",
    "email = Entry(root,font=(\"Cascadia Code\",18),width=23)\n",
    "email.grid(row=2,column=1,padx=35)\n",
    "\n",
    "st = Button(root,text=\"Generate OTP\",font=(\"Cascadia Code\",14),command=generateOTP)\n",
    "st.grid(row=3,column=1,pady = 20)\n",
    "\n",
    "\n",
    "Label(root,text=\"Enter OTP : \",font=(\"Cascadia Code\",18)).grid(row=4,column=1,padx = 0,pady=12)\n",
    "userotp = Entry(root,font=(\"Cascadia Code\",18),width=10)\n",
    "userotp.grid(row=5,column=1,padx=35)\n",
    "\n",
    "Button(root,text=\"Verify OTP\",font=(\"Cascadia Code\",14),command=verify).grid(row=6,column=1,pady = 20)\n",
    "\n",
    "\n",
    "root.mainloop()"
   ]
  },
  {
   "cell_type": "code",
   "execution_count": null,
   "id": "f9eeb36a",
   "metadata": {},
   "outputs": [],
   "source": []
  },
  {
   "cell_type": "code",
   "execution_count": null,
   "id": "8b178313",
   "metadata": {},
   "outputs": [],
   "source": []
  },
  {
   "cell_type": "code",
   "execution_count": null,
   "id": "6db00f61",
   "metadata": {},
   "outputs": [],
   "source": []
  },
  {
   "cell_type": "code",
   "execution_count": null,
   "id": "2cb9e079",
   "metadata": {},
   "outputs": [],
   "source": []
  },
  {
   "cell_type": "code",
   "execution_count": null,
   "id": "addde772",
   "metadata": {},
   "outputs": [],
   "source": []
  },
  {
   "cell_type": "code",
   "execution_count": null,
   "id": "e8460abd",
   "metadata": {},
   "outputs": [],
   "source": []
  },
  {
   "cell_type": "code",
   "execution_count": null,
   "id": "87fc5d43",
   "metadata": {},
   "outputs": [],
   "source": []
  },
  {
   "cell_type": "code",
   "execution_count": null,
   "id": "e6538613",
   "metadata": {},
   "outputs": [],
   "source": []
  },
  {
   "cell_type": "code",
   "execution_count": null,
   "id": "caaa150a",
   "metadata": {},
   "outputs": [],
   "source": []
  }
 ],
 "metadata": {
  "kernelspec": {
   "display_name": "Python 3 (ipykernel)",
   "language": "python",
   "name": "python3"
  },
  "language_info": {
   "codemirror_mode": {
    "name": "ipython",
    "version": 3
   },
   "file_extension": ".py",
   "mimetype": "text/x-python",
   "name": "python",
   "nbconvert_exporter": "python",
   "pygments_lexer": "ipython3",
   "version": "3.9.13"
  }
 },
 "nbformat": 4,
 "nbformat_minor": 5
}
